{
 "cells": [
  {
   "cell_type": "markdown",
   "metadata": {},
   "source": [
    "# Mutually Recursive HITS algorithm"
   ]
  },
  {
   "cell_type": "code",
   "execution_count": 79,
   "metadata": {},
   "outputs": [],
   "source": [
    "import heapq \n",
    "import math\n",
    "from collections import defaultdict # dictionary of lists\n",
    "import numpy as np \n",
    "import matplotlib.pyplot as plt\n",
    "import matplotlib.image as mpimg  # to show graph"
   ]
  },
  {
   "cell_type": "markdown",
   "metadata": {},
   "source": [
    "## 1. Implementation of Graph and HITS algorithm"
   ]
  },
  {
   "cell_type": "code",
   "execution_count": 80,
   "metadata": {},
   "outputs": [],
   "source": [
    "# Class graph used to implement the graph of webpages\n",
    "class Graph:\n",
    "\n",
    "    def __init__(self,vertices):\n",
    "        self.nodes = [] #list of nodes \n",
    "        for i in range(len(vertices)):\n",
    "            self.nodes.append(vertices[i])\n",
    "        self.edges = []\n",
    "        #out_link keeps the track of edges moving away from the node\n",
    "        self.out_link = defaultdict(list)\n",
    "        #in_link keeps the track of edges moving towards the node\n",
    "        self.in_link = defaultdict(list)\n",
    "        \n",
    "    #(u,v) represents that there is an edge from u to v\n",
    "    def addEdge(self,u,v): \n",
    "        #check if edge is already present\n",
    "        for edges in self.edges:\n",
    "            if u==edges[0] and v==edges[1]:\n",
    "                print(\"Edge already exists\")\n",
    "                return\n",
    "        self.edges.append([u,v])\n",
    "        #edge from u to v  \n",
    "        #v in the outlink of u\n",
    "        self.out_link[u].append(v)\n",
    "        #edge towards v from u\n",
    "        #u in the inlink of v\n",
    "        self.in_link[v].append(u)\n",
    "        \n",
    "    def print_graph(self):\n",
    "        for node in self.nodes:\n",
    "            print(\"Node :\",node)\n",
    "            print(\"Outlinks:\",self.out_link[node])\n",
    "            print(\"Inlinks:\",self.in_link[node])\n",
    "            print()\n",
    "            \n",
    "    def get_HITS(self):\n",
    "        n = len(self.nodes)\n",
    "        \n",
    "        #initialize hub and autority vectors to 1\n",
    "        print(\"Initial Hub weight vector: \")\n",
    "        prev_hub_weight = np.ones(n)\n",
    "        print(prev_hub_weight)\n",
    "        \n",
    "        print(\"Initial Authority weight vector: \")\n",
    "        prev_authority_weight = np.ones(n)\n",
    "        print(prev_authority_weight)\n",
    "        print(\"--------------------------------------------------------------------------------------------\")\n",
    "        for i in range(10):\n",
    "            print(\"Iteration number: \",i+1)\n",
    "            \n",
    "            #calculate authority vector by using previous hub vector\n",
    "            curr_authority_weight = []\n",
    "            for node in range(n):\n",
    "                temp=0\n",
    "                for inlinks in self.in_link[node]:\n",
    "                    temp=temp+prev_hub_weight[inlinks]\n",
    "                curr_authority_weight.append(temp)\n",
    "                \n",
    "            #normalize authority vector\n",
    "            auth_sum = sum(curr_authority_weight)\n",
    "            curr_authority_weight=curr_authority_weight/auth_sum\n",
    "            curr_authority_weight=np.array(curr_authority_weight)\n",
    "            print(\"Authority weights :\",curr_authority_weight)\n",
    "            \n",
    "            #calculate hub vector by using current authority vector\n",
    "            curr_hub_weight = []\n",
    "            for node in range(n):\n",
    "                temp=0\n",
    "                for outlinks in self.out_link[node]:\n",
    "                    temp=temp+curr_authority_weight[outlinks]\n",
    "                curr_hub_weight.append(temp)\n",
    "                \n",
    "            #normalize hub vector\n",
    "            hub_sum = sum(curr_hub_weight)\n",
    "            curr_hub_weight=curr_hub_weight/hub_sum\n",
    "            curr_hub_weight=np.array(curr_hub_weight)\n",
    "            print(\"Hub weights :\",curr_hub_weight)\n",
    "            print(\"--------------------------------------------------------------------------------------------\")\n",
    "            \n",
    "            #check if hub and authority vectors have reached equilibrium\n",
    "            auth_differences = abs(prev_authority_weight - curr_authority_weight)\n",
    "            hub_differences = abs(prev_hub_weight - curr_hub_weight)\n",
    "            \n",
    "            if np.all(auth_differences <= 0.001) and np.all(hub_differences <= 0.001) :\n",
    "                break\n",
    "            \n",
    "            #continue to the next iteration using currently calculated hub and authority vectors\n",
    "            prev_authority_weight = curr_authority_weight\n",
    "            prev_hub_weight=curr_hub_weight\n",
    "            \n",
    "        return curr_hub_weight,curr_authority_weight"
   ]
  },
  {
   "cell_type": "markdown",
   "metadata": {},
   "source": [
    "## 2. Example"
   ]
  },
  {
   "cell_type": "code",
   "execution_count": 81,
   "metadata": {},
   "outputs": [
    {
     "name": "stdout",
     "output_type": "stream",
     "text": [
      "Populating the interactive namespace from numpy and matplotlib\n"
     ]
    },
    {
     "data": {
      "image/png": "[encoded data removed]",
      "text/plain": [
       "<Figure size 432x288 with 1 Axes>"
      ]
     },
     "metadata": {
      "needs_background": "light"
     },
     "output_type": "display_data"
    }
   ],
   "source": [
    "%pylab inline\n",
    "\n",
    "img = mpimg.imread('graph.png')\n",
    "imgplot = plt.imshow(img)\n",
    "plt.show()"
   ]
  },
  {
   "cell_type": "code",
   "execution_count": 82,
   "metadata": {},
   "outputs": [
    {
     "name": "stdout",
     "output_type": "stream",
     "text": [
      "Node : 0\n",
      "Outlinks: [1, 2, 3]\n",
      "Inlinks: [1]\n",
      "\n",
      "Node : 1\n",
      "Outlinks: [0, 2, 3]\n",
      "Inlinks: [0]\n",
      "\n",
      "Node : 2\n",
      "Outlinks: [3]\n",
      "Inlinks: [0, 1]\n",
      "\n",
      "Node : 3\n",
      "Outlinks: []\n",
      "Inlinks: [0, 1, 2]\n",
      "\n"
     ]
    }
   ],
   "source": [
    "g = Graph([0,1,2,3]) \n",
    "\n",
    "g.addEdge(0, 1)\n",
    "g.addEdge(0, 2)\n",
    "g.addEdge(0, 3)\n",
    "\n",
    "g.addEdge(1, 0)\n",
    "g.addEdge(1, 2)\n",
    "g.addEdge(1, 3)\n",
    "\n",
    "g.addEdge(2, 3)\n",
    "\n",
    "g.print_graph()"
   ]
  },
  {
   "cell_type": "code",
   "execution_count": 74,
   "metadata": {},
   "outputs": [
    {
     "name": "stdout",
     "output_type": "stream",
     "text": [
      "Initial Hub weight vector: \n",
      "[1. 1. 1. 1.]\n",
      "Initial Authority weight vector: \n",
      "[1. 1. 1. 1.]\n",
      "--------------------------------------------------------------------------------------------\n",
      "Iteartion number:  1\n",
      "Authority weights : [0.14285714 0.14285714 0.28571429 0.42857143]\n",
      "Hub weights : [0.4 0.4 0.2 0. ]\n",
      "--------------------------------------------------------------------------------------------\n",
      "Iteartion number:  2\n",
      "Authority weights : [0.15384615 0.15384615 0.30769231 0.38461538]\n",
      "Hub weights : [0.40740741 0.40740741 0.18518519 0.        ]\n",
      "--------------------------------------------------------------------------------------------\n",
      "Iteartion number:  3\n",
      "Authority weights : [0.15492958 0.15492958 0.30985915 0.38028169]\n",
      "Hub weights : [0.40816327 0.40816327 0.18367347 0.        ]\n",
      "--------------------------------------------------------------------------------------------\n",
      "Iteartion number:  4\n",
      "Authority weights : [0.15503876 0.15503876 0.31007752 0.37984496]\n",
      "Hub weights : [0.4082397 0.4082397 0.1835206 0.       ]\n",
      "--------------------------------------------------------------------------------------------\n",
      "\n",
      "Final Hub Weights : [0.4082397 0.4082397 0.1835206 0.       ]\n",
      "Final Authority Weights : [0.15503876 0.15503876 0.31007752 0.37984496]\n"
     ]
    }
   ],
   "source": [
    "hub,auth=g.get_HITS()\n",
    "print(\"\\nFinal Hub Weights :\",hub)\n",
    "print(\"Final Authority Weights :\",auth)"
   ]
  },
  {
   "cell_type": "code",
   "execution_count": null,
   "metadata": {},
   "outputs": [],
   "source": []
  },
  {
   "cell_type": "code",
   "execution_count": null,
   "metadata": {},
   "outputs": [],
   "source": []
  }
 ],
 "metadata": {
  "kernelspec": {
   "display_name": "Python 3",
   "language": "python",
   "name": "python3"
  },
  "language_info": {
   "codemirror_mode": {
    "name": "ipython",
    "version": 3
   },
   "file_extension": ".py",
   "mimetype": "text/x-python",
   "name": "python",
   "nbconvert_exporter": "python",
   "pygments_lexer": "ipython3",
   "version": "3.7.6"
  }
 },
 "nbformat": 4,
 "nbformat_minor": 4
}
